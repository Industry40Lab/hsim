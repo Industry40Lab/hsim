{
 "cells": [
  {
   "cell_type": "code",
   "execution_count": 3,
   "metadata": {},
   "outputs": [
    {
     "name": "stdout",
     "output_type": "stream",
     "text": [
      "Broker is active\n",
      "Broker is starting\n",
      "False\n",
      "1\n"
     ]
    }
   ],
   "source": [
    "from typing import Any, Callable\n",
    "import salabim as sim\n",
    "\n",
    "from hsim.core.StateMachine import StateMachine\n",
    "from hsim.core.MachineState import MachineState\n",
    "from hsim.core.basic import Timeout\n",
    "\n",
    "class Trigger(sim.Component):\n",
    "    pass\n",
    "       \n",
    "class Car(StateMachine):\n",
    "    def __init__(self, env = None, name: str = \"\", **kwargs):\n",
    "        super().__init__(name, env, **kwargs)\n",
    "        self.stopped = sim.State()\n",
    "        self.stopped.trigger(True)\n",
    "    class Moving(MachineState):\n",
    "        initial_state = True\n",
    "        def _do(self):\n",
    "            while True:\n",
    "                print(\"Car is moving %d\"%self.env.now())\n",
    "                self.hold(5)\n",
    "                print(\"Car finished moving %d\"%self.env.now())\n",
    "                return self.sm._states[1]()\n",
    "    class Parking(MachineState):\n",
    "        def _do(self):\n",
    "            while True:\n",
    "                print(\"Car is parked %d\"%self.env.now())\n",
    "                self.wait(Timeout(10)())\n",
    "                print(\"car is restarting %d\"%self.env.now())\n",
    "                return self.sm._states[0]()\n",
    "            \n",
    "class Broker(sim.Component):\n",
    "    def process(self):\n",
    "        print(\"Broker is active\")\n",
    "        self.hold(7)\n",
    "        print(\"Broker is starting\")\n",
    "        self.car.stopped.trigger()\n",
    "        print(self.car.stopped.get())\n",
    "\n",
    "env = sim.Environment(trace=0)\n",
    "c=Car()\n",
    "c.stopped = sim.State()\n",
    "b=Broker()\n",
    "b.car = c\n",
    "\n",
    "env.run(till=200)\n",
    "print(1)\n"
   ]
  },
  {
   "cell_type": "code",
   "execution_count": 15,
   "metadata": {},
   "outputs": [
    {
     "name": "stdout",
     "output_type": "stream",
     "text": [
      "Warning: no initial state set in <0x7f4726cd58d0 (A object) at 0x7f4726cd58d0>\n",
      "Working at 0\n",
      "Resting at 0\n",
      "Working at 5\n",
      "Resting at 10\n",
      "Working at 15\n",
      "Resting at 20\n",
      "Working at 25\n",
      "Resting at 30\n",
      "Working at 35\n",
      "Resting at 40\n",
      "Working at 45\n",
      "Resting at 50\n"
     ]
    }
   ],
   "source": [
    "from hsim.core.chfsm import CHFSM, CompositeState, State, Transition, Timeout,StateMachine\n",
    "from hsim.core.core import Environment\n",
    "\n",
    "class A(StateMachine):\n",
    "    class Work(State):\n",
    "        # initial_state = True\n",
    "        def process(self):\n",
    "            print(\"Working at %d\"%self.env.now())\n",
    "            self.hold(5)\n",
    "            return self.Rest()\n",
    "    class Rest(State):\n",
    "        def process(self):\n",
    "            print(\"Resting at %d\"%self.env.now())\n",
    "            self.hold(5)\n",
    "            return self.Work()        \n",
    "\n",
    "env = Environment()\n",
    "a=A(env)\n",
    "env.run(till=50)\n",
    "# a.current_state\n"
   ]
  }
 ],
 "metadata": {
  "kernelspec": {
   "display_name": ".venv",
   "language": "python",
   "name": "python3"
  },
  "language_info": {
   "codemirror_mode": {
    "name": "ipython",
    "version": 3
   },
   "file_extension": ".py",
   "mimetype": "text/x-python",
   "name": "python",
   "nbconvert_exporter": "python",
   "pygments_lexer": "ipython3",
   "version": "3.10.12"
  }
 },
 "nbformat": 4,
 "nbformat_minor": 2
}
