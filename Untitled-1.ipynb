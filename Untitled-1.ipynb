{
 "cells": [
  {
   "cell_type": "code",
   "execution_count": 1,
   "metadata": {},
   "outputs": [
    {
     "ename": "ImportError",
     "evalue": "cannot import name 'StateMachine' from partially initialized module 'hsim.core.StateMachine' (most likely due to a circular import) (/home/lorenzo/github/hsim/hsim/core/StateMachine.py)",
     "output_type": "error",
     "traceback": [
      "\u001b[0;31m---------------------------------------------------------------------------\u001b[0m",
      "\u001b[0;31mImportError\u001b[0m                               Traceback (most recent call last)",
      "Cell \u001b[0;32mIn[1], line 4\u001b[0m\n\u001b[1;32m      1\u001b[0m \u001b[38;5;28;01mfrom\u001b[39;00m \u001b[38;5;21;01mtyping\u001b[39;00m \u001b[38;5;28;01mimport\u001b[39;00m Any, Callable\n\u001b[1;32m      2\u001b[0m \u001b[38;5;28;01mimport\u001b[39;00m \u001b[38;5;21;01msalabim\u001b[39;00m \u001b[38;5;28;01mas\u001b[39;00m \u001b[38;5;21;01msim\u001b[39;00m\n\u001b[0;32m----> 4\u001b[0m \u001b[38;5;28;01mfrom\u001b[39;00m \u001b[38;5;21;01mhsim\u001b[39;00m\u001b[38;5;21;01m.\u001b[39;00m\u001b[38;5;21;01mcore\u001b[39;00m\u001b[38;5;21;01m.\u001b[39;00m\u001b[38;5;21;01mStateMachine\u001b[39;00m \u001b[38;5;28;01mimport\u001b[39;00m StateMachine\n\u001b[1;32m      5\u001b[0m \u001b[38;5;28;01mfrom\u001b[39;00m \u001b[38;5;21;01mhsim\u001b[39;00m\u001b[38;5;21;01m.\u001b[39;00m\u001b[38;5;21;01mcore\u001b[39;00m\u001b[38;5;21;01m.\u001b[39;00m\u001b[38;5;21;01mMachineState\u001b[39;00m \u001b[38;5;28;01mimport\u001b[39;00m MachineState\n\u001b[1;32m      6\u001b[0m \u001b[38;5;28;01mfrom\u001b[39;00m \u001b[38;5;21;01mhsim\u001b[39;00m\u001b[38;5;21;01m.\u001b[39;00m\u001b[38;5;21;01mcore\u001b[39;00m\u001b[38;5;21;01m.\u001b[39;00m\u001b[38;5;21;01mbasic\u001b[39;00m \u001b[38;5;28;01mimport\u001b[39;00m Timeout\n",
      "File \u001b[0;32m~/github/hsim/hsim/core/StateMachine.py:5\u001b[0m\n\u001b[1;32m      3\u001b[0m \u001b[38;5;28;01mfrom\u001b[39;00m \u001b[38;5;21;01msalabim\u001b[39;00m \u001b[38;5;28;01mimport\u001b[39;00m Component\n\u001b[1;32m      4\u001b[0m \u001b[38;5;28;01mfrom\u001b[39;00m \u001b[38;5;21;01m.\u001b[39;00m\u001b[38;5;21;01msupportFunctions\u001b[39;00m \u001b[38;5;28;01mimport\u001b[39;00m dotdict, get_class_dict\n\u001b[0;32m----> 5\u001b[0m \u001b[38;5;28;01mfrom\u001b[39;00m \u001b[38;5;21;01m.\u001b[39;00m\u001b[38;5;21;01mMachineState\u001b[39;00m \u001b[38;5;28;01mimport\u001b[39;00m MachineState\n\u001b[1;32m      7\u001b[0m \u001b[38;5;28;01mdef\u001b[39;00m \u001b[38;5;21mdo\u001b[39m(instance):\n\u001b[1;32m      8\u001b[0m     \u001b[38;5;28;01mdef\u001b[39;00m \u001b[38;5;21mdecorator\u001b[39m(f):\n",
      "File \u001b[0;32m~/github/hsim/hsim/core/MachineState.py:3\u001b[0m\n\u001b[1;32m      1\u001b[0m \u001b[38;5;28;01mfrom\u001b[39;00m \u001b[38;5;21;01m__future__\u001b[39;00m \u001b[38;5;28;01mimport\u001b[39;00m annotations\n\u001b[1;32m      2\u001b[0m \u001b[38;5;28;01mfrom\u001b[39;00m \u001b[38;5;21;01msalabim\u001b[39;00m \u001b[38;5;28;01mimport\u001b[39;00m State, Component\n\u001b[0;32m----> 3\u001b[0m \u001b[38;5;28;01mfrom\u001b[39;00m \u001b[38;5;21;01m.\u001b[39;00m\u001b[38;5;21;01mStateMachine\u001b[39;00m \u001b[38;5;28;01mimport\u001b[39;00m StateMachine\n\u001b[1;32m      5\u001b[0m \u001b[38;5;28;01mclass\u001b[39;00m \u001b[38;5;21;01mMachineState\u001b[39;00m(Component,State):\n\u001b[1;32m      6\u001b[0m     initial_state \u001b[38;5;241m=\u001b[39m \u001b[38;5;28;01mFalse\u001b[39;00m\n",
      "\u001b[0;31mImportError\u001b[0m: cannot import name 'StateMachine' from partially initialized module 'hsim.core.StateMachine' (most likely due to a circular import) (/home/lorenzo/github/hsim/hsim/core/StateMachine.py)"
     ]
    }
   ],
   "source": [
    "from typing import Any, Callable\n",
    "import salabim as sim\n",
    "\n",
    "from hsim.core.StateMachine import StateMachine\n",
    "from hsim.core.MachineState import MachineState\n",
    "from hsim.core.basic import Timeout\n",
    "\n",
    "\n",
    "class Trigger(sim.Component):\n",
    "    pass\n",
    "       \n",
    "class Car(StateMachine):\n",
    "    def __init__(self, env = None, name: str = \"\", **kwargs):\n",
    "        super().__init__(name, env, **kwargs)\n",
    "        self.stopped = sim.State()\n",
    "        self.stopped.trigger(True)\n",
    "    class Moving(MachineState):\n",
    "        initial_state = True\n",
    "        def _do(self):\n",
    "            while True:\n",
    "                print(\"Car is moving %d\"%self.env.now())\n",
    "                self.hold(5)\n",
    "                print(\"Car finished moving %d\"%self.env.now())\n",
    "                return self.sm._states[1]()\n",
    "    class Parking(MachineState):\n",
    "        def _do(self):\n",
    "            while True:\n",
    "                print(\"Car is parked %d\"%self.env.now())\n",
    "                self.wait(Timeout(10)())\n",
    "                print(\"car is restarting %d\"%self.env.now())\n",
    "                return self.sm._states[0]()\n",
    "            \n",
    "class Broker(sim.Component):\n",
    "    def process(self):\n",
    "        print(\"Broker is active\")\n",
    "        self.hold(7)\n",
    "        print(\"Broker is starting\")\n",
    "        self.car.stopped.trigger()\n",
    "        print(self.car.stopped.get())\n",
    "\n",
    "env = sim.Environment(trace=0)\n",
    "c=Car()\n",
    "c.stopped = sim.State()\n",
    "b=Broker()\n",
    "b.car = c\n",
    "\n",
    "env.run(till=200)\n",
    "print(1)\n"
   ]
  },
  {
   "cell_type": "code",
   "execution_count": 15,
   "metadata": {},
   "outputs": [
    {
     "name": "stdout",
     "output_type": "stream",
     "text": [
      "Warning: no initial state set in <0x7f4726cd58d0 (A object) at 0x7f4726cd58d0>\n",
      "Working at 0\n",
      "Resting at 0\n",
      "Working at 5\n",
      "Resting at 10\n",
      "Working at 15\n",
      "Resting at 20\n",
      "Working at 25\n",
      "Resting at 30\n",
      "Working at 35\n",
      "Resting at 40\n",
      "Working at 45\n",
      "Resting at 50\n"
     ]
    }
   ],
   "source": [
    "from hsim.core.chfsm import CHFSM, CompositeState, State, Transition, Timeout,StateMachine\n",
    "from hsim.core.core import Environment\n",
    "\n",
    "class A(StateMachine):\n",
    "    class Work(State):\n",
    "        # initial_state = True\n",
    "        def process(self):\n",
    "            print(\"Working at %d\"%self.env.now())\n",
    "            self.hold(5)\n",
    "            return self.Rest()\n",
    "    class Rest(State):\n",
    "        def process(self):\n",
    "            print(\"Resting at %d\"%self.env.now())\n",
    "            self.hold(5)\n",
    "            return self.Work()        \n",
    "\n",
    "env = Environment()\n",
    "a=A(env)\n",
    "env.run(till=50)\n",
    "# a.current_state\n"
   ]
  }
 ],
 "metadata": {
  "kernelspec": {
   "display_name": ".venv",
   "language": "python",
   "name": "python3"
  },
  "language_info": {
   "codemirror_mode": {
    "name": "ipython",
    "version": 3
   },
   "file_extension": ".py",
   "mimetype": "text/x-python",
   "name": "python",
   "nbconvert_exporter": "python",
   "pygments_lexer": "ipython3",
   "version": "3.10.12"
  }
 },
 "nbformat": 4,
 "nbformat_minor": 2
}
